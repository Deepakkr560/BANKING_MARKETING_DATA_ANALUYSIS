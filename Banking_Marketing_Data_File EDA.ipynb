{
 "cells": [
  {
   "cell_type": "code",
   "execution_count": 1,
   "id": "1b216c65",
   "metadata": {},
   "outputs": [],
   "source": [
    "import pandas as pd"
   ]
  },
  {
   "cell_type": "code",
   "execution_count": 2,
   "id": "20b2ef47",
   "metadata": {},
   "outputs": [],
   "source": [
    "bank_df = pd.read_csv(r'C:\\Users\\DEEPAK KUMAR\\Downloads\\bank.csv')"
   ]
  },
  {
   "cell_type": "code",
   "execution_count": 3,
   "id": "c9f1d420",
   "metadata": {},
   "outputs": [
    {
     "data": {
      "text/html": [
       "<div>\n",
       "<style scoped>\n",
       "    .dataframe tbody tr th:only-of-type {\n",
       "        vertical-align: middle;\n",
       "    }\n",
       "\n",
       "    .dataframe tbody tr th {\n",
       "        vertical-align: top;\n",
       "    }\n",
       "\n",
       "    .dataframe thead th {\n",
       "        text-align: right;\n",
       "    }\n",
       "</style>\n",
       "<table border=\"1\" class=\"dataframe\">\n",
       "  <thead>\n",
       "    <tr style=\"text-align: right;\">\n",
       "      <th></th>\n",
       "      <th>age</th>\n",
       "      <th>job</th>\n",
       "      <th>marital</th>\n",
       "      <th>education</th>\n",
       "      <th>default</th>\n",
       "      <th>balance</th>\n",
       "      <th>housing</th>\n",
       "      <th>loan</th>\n",
       "      <th>contact</th>\n",
       "      <th>day</th>\n",
       "      <th>month</th>\n",
       "      <th>duration</th>\n",
       "      <th>campaign</th>\n",
       "      <th>pdays</th>\n",
       "      <th>previous</th>\n",
       "      <th>poutcome</th>\n",
       "      <th>y</th>\n",
       "    </tr>\n",
       "  </thead>\n",
       "  <tbody>\n",
       "    <tr>\n",
       "      <th>0</th>\n",
       "      <td>58</td>\n",
       "      <td>management</td>\n",
       "      <td>married</td>\n",
       "      <td>tertiary</td>\n",
       "      <td>no</td>\n",
       "      <td>2143</td>\n",
       "      <td>yes</td>\n",
       "      <td>no</td>\n",
       "      <td>unknown</td>\n",
       "      <td>5</td>\n",
       "      <td>may</td>\n",
       "      <td>261</td>\n",
       "      <td>1</td>\n",
       "      <td>1</td>\n",
       "      <td>0</td>\n",
       "      <td>unknown</td>\n",
       "      <td>no</td>\n",
       "    </tr>\n",
       "    <tr>\n",
       "      <th>1</th>\n",
       "      <td>44</td>\n",
       "      <td>technician</td>\n",
       "      <td>single</td>\n",
       "      <td>secondary</td>\n",
       "      <td>no</td>\n",
       "      <td>29</td>\n",
       "      <td>yes</td>\n",
       "      <td>no</td>\n",
       "      <td>unknown</td>\n",
       "      <td>5</td>\n",
       "      <td>may</td>\n",
       "      <td>151</td>\n",
       "      <td>1</td>\n",
       "      <td>1</td>\n",
       "      <td>0</td>\n",
       "      <td>unknown</td>\n",
       "      <td>no</td>\n",
       "    </tr>\n",
       "    <tr>\n",
       "      <th>2</th>\n",
       "      <td>33</td>\n",
       "      <td>entrepreneur</td>\n",
       "      <td>married</td>\n",
       "      <td>secondary</td>\n",
       "      <td>no</td>\n",
       "      <td>2</td>\n",
       "      <td>yes</td>\n",
       "      <td>yes</td>\n",
       "      <td>unknown</td>\n",
       "      <td>5</td>\n",
       "      <td>may</td>\n",
       "      <td>76</td>\n",
       "      <td>1</td>\n",
       "      <td>1</td>\n",
       "      <td>0</td>\n",
       "      <td>unknown</td>\n",
       "      <td>no</td>\n",
       "    </tr>\n",
       "    <tr>\n",
       "      <th>3</th>\n",
       "      <td>47</td>\n",
       "      <td>bluecollar</td>\n",
       "      <td>married</td>\n",
       "      <td>unknown</td>\n",
       "      <td>no</td>\n",
       "      <td>1506</td>\n",
       "      <td>yes</td>\n",
       "      <td>no</td>\n",
       "      <td>unknown</td>\n",
       "      <td>5</td>\n",
       "      <td>may</td>\n",
       "      <td>92</td>\n",
       "      <td>1</td>\n",
       "      <td>1</td>\n",
       "      <td>0</td>\n",
       "      <td>unknown</td>\n",
       "      <td>no</td>\n",
       "    </tr>\n",
       "    <tr>\n",
       "      <th>4</th>\n",
       "      <td>33</td>\n",
       "      <td>unknown</td>\n",
       "      <td>single</td>\n",
       "      <td>single</td>\n",
       "      <td>no</td>\n",
       "      <td>1</td>\n",
       "      <td>no</td>\n",
       "      <td>no</td>\n",
       "      <td>unknown</td>\n",
       "      <td>5</td>\n",
       "      <td>may</td>\n",
       "      <td>198</td>\n",
       "      <td>1</td>\n",
       "      <td>1</td>\n",
       "      <td>0</td>\n",
       "      <td>unknown</td>\n",
       "      <td>no</td>\n",
       "    </tr>\n",
       "  </tbody>\n",
       "</table>\n",
       "</div>"
      ],
      "text/plain": [
       "   age           job  marital  education default  balance housing loan  \\\n",
       "0   58    management  married   tertiary      no     2143     yes   no   \n",
       "1   44    technician   single  secondary      no       29     yes   no   \n",
       "2   33  entrepreneur  married  secondary      no        2     yes  yes   \n",
       "3   47    bluecollar  married    unknown      no     1506     yes   no   \n",
       "4   33       unknown   single     single      no        1      no   no   \n",
       "\n",
       "   contact  day month  duration  campaign  pdays  previous poutcome   y  \n",
       "0  unknown    5   may       261         1      1         0  unknown  no  \n",
       "1  unknown    5   may       151         1      1         0  unknown  no  \n",
       "2  unknown    5   may        76         1      1         0  unknown  no  \n",
       "3  unknown    5   may        92         1      1         0  unknown  no  \n",
       "4  unknown    5   may       198         1      1         0  unknown  no  "
      ]
     },
     "execution_count": 3,
     "metadata": {},
     "output_type": "execute_result"
    }
   ],
   "source": [
    "bank_df.head()"
   ]
  },
  {
   "cell_type": "code",
   "execution_count": 4,
   "id": "64df172d",
   "metadata": {},
   "outputs": [
    {
     "data": {
      "text/html": [
       "<div>\n",
       "<style scoped>\n",
       "    .dataframe tbody tr th:only-of-type {\n",
       "        vertical-align: middle;\n",
       "    }\n",
       "\n",
       "    .dataframe tbody tr th {\n",
       "        vertical-align: top;\n",
       "    }\n",
       "\n",
       "    .dataframe thead th {\n",
       "        text-align: right;\n",
       "    }\n",
       "</style>\n",
       "<table border=\"1\" class=\"dataframe\">\n",
       "  <thead>\n",
       "    <tr style=\"text-align: right;\">\n",
       "      <th></th>\n",
       "      <th>age</th>\n",
       "      <th>job</th>\n",
       "      <th>marital</th>\n",
       "      <th>education</th>\n",
       "      <th>default</th>\n",
       "      <th>balance</th>\n",
       "      <th>housing</th>\n",
       "      <th>loan</th>\n",
       "      <th>contact</th>\n",
       "      <th>day</th>\n",
       "      <th>month</th>\n",
       "      <th>duration</th>\n",
       "      <th>campaign</th>\n",
       "      <th>pdays</th>\n",
       "      <th>previous</th>\n",
       "      <th>poutcome</th>\n",
       "      <th>y</th>\n",
       "    </tr>\n",
       "  </thead>\n",
       "  <tbody>\n",
       "    <tr>\n",
       "      <th>45206</th>\n",
       "      <td>51</td>\n",
       "      <td>technician</td>\n",
       "      <td>married</td>\n",
       "      <td>tertiary</td>\n",
       "      <td>no</td>\n",
       "      <td>825</td>\n",
       "      <td>no</td>\n",
       "      <td>no</td>\n",
       "      <td>cellular</td>\n",
       "      <td>17</td>\n",
       "      <td>nov</td>\n",
       "      <td>977</td>\n",
       "      <td>3</td>\n",
       "      <td>1</td>\n",
       "      <td>0</td>\n",
       "      <td>unknown</td>\n",
       "      <td>yes</td>\n",
       "    </tr>\n",
       "    <tr>\n",
       "      <th>45207</th>\n",
       "      <td>71</td>\n",
       "      <td>retired</td>\n",
       "      <td>divorced</td>\n",
       "      <td>primary</td>\n",
       "      <td>no</td>\n",
       "      <td>1729</td>\n",
       "      <td>no</td>\n",
       "      <td>no</td>\n",
       "      <td>cellular</td>\n",
       "      <td>17</td>\n",
       "      <td>nov</td>\n",
       "      <td>456</td>\n",
       "      <td>2</td>\n",
       "      <td>1</td>\n",
       "      <td>0</td>\n",
       "      <td>unknown</td>\n",
       "      <td>yes</td>\n",
       "    </tr>\n",
       "    <tr>\n",
       "      <th>45208</th>\n",
       "      <td>72</td>\n",
       "      <td>retired</td>\n",
       "      <td>married</td>\n",
       "      <td>secondary</td>\n",
       "      <td>no</td>\n",
       "      <td>5715</td>\n",
       "      <td>no</td>\n",
       "      <td>no</td>\n",
       "      <td>cellular</td>\n",
       "      <td>17</td>\n",
       "      <td>nov</td>\n",
       "      <td>1127</td>\n",
       "      <td>5</td>\n",
       "      <td>184</td>\n",
       "      <td>3</td>\n",
       "      <td>success</td>\n",
       "      <td>yes</td>\n",
       "    </tr>\n",
       "    <tr>\n",
       "      <th>45209</th>\n",
       "      <td>57</td>\n",
       "      <td>bluecollar</td>\n",
       "      <td>married</td>\n",
       "      <td>secondary</td>\n",
       "      <td>no</td>\n",
       "      <td>668</td>\n",
       "      <td>no</td>\n",
       "      <td>no</td>\n",
       "      <td>telephone</td>\n",
       "      <td>17</td>\n",
       "      <td>nov</td>\n",
       "      <td>508</td>\n",
       "      <td>4</td>\n",
       "      <td>1</td>\n",
       "      <td>0</td>\n",
       "      <td>unknown</td>\n",
       "      <td>no</td>\n",
       "    </tr>\n",
       "    <tr>\n",
       "      <th>45210</th>\n",
       "      <td>37</td>\n",
       "      <td>entrepreneur</td>\n",
       "      <td>married</td>\n",
       "      <td>secondary</td>\n",
       "      <td>no</td>\n",
       "      <td>2971</td>\n",
       "      <td>no</td>\n",
       "      <td>no</td>\n",
       "      <td>cellular</td>\n",
       "      <td>17</td>\n",
       "      <td>nov</td>\n",
       "      <td>361</td>\n",
       "      <td>2</td>\n",
       "      <td>188</td>\n",
       "      <td>11</td>\n",
       "      <td>other</td>\n",
       "      <td>no</td>\n",
       "    </tr>\n",
       "  </tbody>\n",
       "</table>\n",
       "</div>"
      ],
      "text/plain": [
       "       age           job   marital  education default  balance housing loan  \\\n",
       "45206   51    technician   married   tertiary      no      825      no   no   \n",
       "45207   71       retired  divorced    primary      no     1729      no   no   \n",
       "45208   72       retired   married  secondary      no     5715      no   no   \n",
       "45209   57    bluecollar   married  secondary      no      668      no   no   \n",
       "45210   37  entrepreneur   married  secondary      no     2971      no   no   \n",
       "\n",
       "         contact  day month  duration  campaign  pdays  previous poutcome    y  \n",
       "45206   cellular   17   nov       977         3      1         0  unknown  yes  \n",
       "45207   cellular   17   nov       456         2      1         0  unknown  yes  \n",
       "45208   cellular   17   nov      1127         5    184         3  success  yes  \n",
       "45209  telephone   17   nov       508         4      1         0  unknown   no  \n",
       "45210   cellular   17   nov       361         2    188        11    other   no  "
      ]
     },
     "execution_count": 4,
     "metadata": {},
     "output_type": "execute_result"
    }
   ],
   "source": [
    "bank_df.tail()"
   ]
  },
  {
   "cell_type": "code",
   "execution_count": 5,
   "id": "8dfea8c8",
   "metadata": {},
   "outputs": [
    {
     "name": "stdout",
     "output_type": "stream",
     "text": [
      "<class 'pandas.core.frame.DataFrame'>\n",
      "RangeIndex: 45211 entries, 0 to 45210\n",
      "Data columns (total 17 columns):\n",
      " #   Column     Non-Null Count  Dtype \n",
      "---  ------     --------------  ----- \n",
      " 0   age        45211 non-null  int64 \n",
      " 1   job        45211 non-null  object\n",
      " 2   marital    45211 non-null  object\n",
      " 3   education  45211 non-null  object\n",
      " 4   default    45211 non-null  object\n",
      " 5   balance    45211 non-null  int64 \n",
      " 6   housing    45211 non-null  object\n",
      " 7   loan       45211 non-null  object\n",
      " 8   contact    45211 non-null  object\n",
      " 9   day        45211 non-null  int64 \n",
      " 10  month      45211 non-null  object\n",
      " 11  duration   45211 non-null  int64 \n",
      " 12  campaign   45211 non-null  int64 \n",
      " 13  pdays      45211 non-null  int64 \n",
      " 14  previous   45211 non-null  int64 \n",
      " 15  poutcome   45211 non-null  object\n",
      " 16  y          45211 non-null  object\n",
      "dtypes: int64(7), object(10)\n",
      "memory usage: 5.9+ MB\n"
     ]
    }
   ],
   "source": [
    "bank_df.info()"
   ]
  },
  {
   "cell_type": "code",
   "execution_count": 6,
   "id": "5acc1c6e",
   "metadata": {},
   "outputs": [
    {
     "data": {
      "text/plain": [
       "age          0\n",
       "job          0\n",
       "marital      0\n",
       "education    0\n",
       "default      0\n",
       "balance      0\n",
       "housing      0\n",
       "loan         0\n",
       "contact      0\n",
       "day          0\n",
       "month        0\n",
       "duration     0\n",
       "campaign     0\n",
       "pdays        0\n",
       "previous     0\n",
       "poutcome     0\n",
       "y            0\n",
       "dtype: int64"
      ]
     },
     "execution_count": 6,
     "metadata": {},
     "output_type": "execute_result"
    }
   ],
   "source": [
    "bank_df.isnull().sum()"
   ]
  },
  {
   "cell_type": "code",
   "execution_count": 7,
   "id": "dcc3c23a",
   "metadata": {},
   "outputs": [],
   "source": [
    "bank_df.rename(columns={'job':'Job_Type','housing':'Housing_Loan','loan':'Personal_Loan'},inplace = True)\n",
    "bank_df.rename(columns={'duration':'Call_Duration','campaign':'Current_Followups','pdays':'Contact_Day_Diff'}, inplace= True)\n",
    "bank_df.rename(columns={'previous':'Previous_Followups','poutcome':'Prev_Camp_Status','y':'Current_Camp_Status'}, inplace= True)"
   ]
  },
  {
   "cell_type": "markdown",
   "id": "51c38ea0",
   "metadata": {},
   "source": [
    "Create New Age_Band to improve prediction insight"
   ]
  },
  {
   "cell_type": "code",
   "execution_count": 8,
   "id": "e41783d4",
   "metadata": {},
   "outputs": [],
   "source": [
    "bank_df['Age_Band'] = 0\n",
    "bank_df.loc[(bank_df.age>=18) & (bank_df.age<=30),'Age_Band'] = 'Young Adults'\n",
    "bank_df.loc[(bank_df.age>30) & (bank_df.age<=45),'Age_Band'] = 'Mid Age Adults'\n",
    "bank_df.loc[(bank_df.age>45) & (bank_df.age<=60),'Age_Band'] = 'Veterans'\n",
    "bank_df.loc[bank_df.age>60,'Age_Band'] = 'Senior Citizen'"
   ]
  },
  {
   "cell_type": "code",
   "execution_count": 9,
   "id": "59b6daf6",
   "metadata": {},
   "outputs": [
    {
     "data": {
      "text/plain": [
       "Mid Age Adults    23733\n",
       "Veterans          13260\n",
       "Young Adults       7030\n",
       "Senior Citizen     1188\n",
       "Name: Age_Band, dtype: int64"
      ]
     },
     "execution_count": 9,
     "metadata": {},
     "output_type": "execute_result"
    }
   ],
   "source": [
    "bank_df.Age_Band.value_counts()"
   ]
  },
  {
   "cell_type": "markdown",
   "id": "b97a2f97",
   "metadata": {},
   "source": [
    "# Checking grouping and treating the missing values from the balance column"
   ]
  },
  {
   "cell_type": "markdown",
   "id": "fc0268a3",
   "metadata": {},
   "source": [
    "since all the entries in the balance are numeric thus we will first define a function for the grouping to the balance column"
   ]
  },
  {
   "cell_type": "code",
   "execution_count": 12,
   "id": "720f834c",
   "metadata": {},
   "outputs": [],
   "source": [
    "bank_df['Balance_Band'] = 0\n",
    "bank_df.loc[bank_df.balance<=0,'Balance_Band'] = 'Negative'\n",
    "bank_df.loc[(bank_df.balance>0) & (bank_df.balance<=500),'Balance_Band'] = 'Low Balance'\n",
    "bank_df.loc[bank_df.balance>500,'Balance_Band'] = 'High Balance'"
   ]
  },
  {
   "cell_type": "code",
   "execution_count": 13,
   "id": "ebd26490",
   "metadata": {},
   "outputs": [
    {
     "data": {
      "text/plain": [
       "High Balance    22239\n",
       "Low Balance     19458\n",
       "Negative         3514\n",
       "Name: Balance_Band, dtype: int64"
      ]
     },
     "execution_count": 13,
     "metadata": {},
     "output_type": "execute_result"
    }
   ],
   "source": [
    "bank_df.Balance_Band.value_counts()"
   ]
  },
  {
   "cell_type": "code",
   "execution_count": 14,
   "id": "86d58dac",
   "metadata": {},
   "outputs": [
    {
     "data": {
      "text/plain": [
       "bluecollar       9732\n",
       "management       9458\n",
       "technician       7597\n",
       "admin            5171\n",
       "services         4154\n",
       "retired          2264\n",
       "self employed    1579\n",
       "entrepreneur     1487\n",
       "unemployed       1303\n",
       "housemaid        1240\n",
       "student           938\n",
       "unknown           288\n",
       "Name: Job_Type, dtype: int64"
      ]
     },
     "execution_count": 14,
     "metadata": {},
     "output_type": "execute_result"
    }
   ],
   "source": [
    "bank_df.Job_Type.value_counts()"
   ]
  },
  {
   "cell_type": "markdown",
   "id": "997f0141",
   "metadata": {},
   "source": [
    "In the above we can see there are 288 unknown values available in the job category and it may affect the outcome, so we need to treat then with mode of the column, since the records are categorical in nature"
   ]
  },
  {
   "cell_type": "code",
   "execution_count": 16,
   "id": "ab807bbd",
   "metadata": {},
   "outputs": [
    {
     "data": {
      "text/plain": [
       "0    bluecollar\n",
       "Name: Job_Type, dtype: object"
      ]
     },
     "execution_count": 16,
     "metadata": {},
     "output_type": "execute_result"
    }
   ],
   "source": [
    "#finding the mode so we can replace it with unknown entries.\n",
    "\n",
    "bank_df.Job_Type.mode()"
   ]
  },
  {
   "cell_type": "code",
   "execution_count": 17,
   "id": "1bcbdae0",
   "metadata": {},
   "outputs": [],
   "source": [
    "#Replacing null value with mode column by creating the function\n",
    "\n",
    "def unknown2bluecollar(x):\n",
    "    if x == 'unknown':\n",
    "        return 'bluecollar'\n",
    "    else:\n",
    "        return x"
   ]
  },
  {
   "cell_type": "code",
   "execution_count": 18,
   "id": "97503e44",
   "metadata": {},
   "outputs": [],
   "source": [
    "#Applying function on jobtypes\n",
    "\n",
    "bank_df['Job_Type'] = bank_df['Job_Type'].apply(unknown2bluecollar)"
   ]
  },
  {
   "cell_type": "code",
   "execution_count": 19,
   "id": "856889e4",
   "metadata": {},
   "outputs": [
    {
     "data": {
      "text/plain": [
       "bluecollar       10020\n",
       "management        9458\n",
       "technician        7597\n",
       "admin             5171\n",
       "services          4154\n",
       "retired           2264\n",
       "self employed     1579\n",
       "entrepreneur      1487\n",
       "unemployed        1303\n",
       "housemaid         1240\n",
       "student            938\n",
       "Name: Job_Type, dtype: int64"
      ]
     },
     "execution_count": 19,
     "metadata": {},
     "output_type": "execute_result"
    }
   ],
   "source": [
    "#Checking after replacing the unknown with mode\n",
    "\n",
    "bank_df['Job_Type'].value_counts()"
   ]
  },
  {
   "cell_type": "code",
   "execution_count": 20,
   "id": "496c6291",
   "metadata": {},
   "outputs": [
    {
     "data": {
      "text/plain": [
       "array(['management', 'technician', 'entrepreneur', 'bluecollar',\n",
       "       'retired', 'admin', 'services', 'self employed', 'unemployed',\n",
       "       'housemaid', 'student'], dtype=object)"
      ]
     },
     "execution_count": 20,
     "metadata": {},
     "output_type": "execute_result"
    }
   ],
   "source": [
    "bank_df['Job_Type'].unique()"
   ]
  },
  {
   "cell_type": "code",
   "execution_count": 21,
   "id": "99c70c64",
   "metadata": {},
   "outputs": [],
   "source": [
    "#Creating a function\n",
    "def job_group(x):\n",
    "    if x == 'admin' or x == 'management' or x == 'services':\n",
    "        return 'White Collar'\n",
    "    elif x == 'bluecollar' or x == 'housemaid' or x == 'technician':\n",
    "        return 'Blue Collar'\n",
    "    elif x == 'entrepreneur' or x == 'self employed':\n",
    "        return 'entrepreneur'\n",
    "    else:\n",
    "        return x"
   ]
  },
  {
   "cell_type": "code",
   "execution_count": 22,
   "id": "63162611",
   "metadata": {},
   "outputs": [],
   "source": [
    "# Applying the grouping function\n",
    "\n",
    "bank_df['Job_Type'] = bank_df['Job_Type'].apply(job_group)"
   ]
  },
  {
   "cell_type": "code",
   "execution_count": 23,
   "id": "e9d3f230",
   "metadata": {},
   "outputs": [
    {
     "data": {
      "text/plain": [
       "Blue Collar     18857\n",
       "White Collar    18783\n",
       "entrepreneur     3066\n",
       "retired          2264\n",
       "unemployed       1303\n",
       "student           938\n",
       "Name: Job_Type, dtype: int64"
      ]
     },
     "execution_count": 23,
     "metadata": {},
     "output_type": "execute_result"
    }
   ],
   "source": [
    "#Checking the result after applying function\n",
    "bank_df.Job_Type.value_counts()"
   ]
  },
  {
   "cell_type": "markdown",
   "id": "703c05a6",
   "metadata": {},
   "source": [
    "# Checking and treating the missing values from education column"
   ]
  },
  {
   "cell_type": "code",
   "execution_count": 24,
   "id": "18755142",
   "metadata": {},
   "outputs": [
    {
     "data": {
      "text/plain": [
       "secondary    23202\n",
       "tertiary     13301\n",
       "primary       6851\n",
       "unknown       1856\n",
       "single           1\n",
       "Name: education, dtype: int64"
      ]
     },
     "execution_count": 24,
     "metadata": {},
     "output_type": "execute_result"
    }
   ],
   "source": [
    "#Checking null value from columns\n",
    "bank_df['education'].value_counts()"
   ]
  },
  {
   "cell_type": "markdown",
   "id": "8c2e84fa",
   "metadata": {},
   "source": [
    "in the above result shows there are 928 unknown entries, to treat them we need to replace them with mode of the column"
   ]
  },
  {
   "cell_type": "code",
   "execution_count": 25,
   "id": "320d546a",
   "metadata": {},
   "outputs": [
    {
     "data": {
      "text/plain": [
       "0    secondary\n",
       "Name: education, dtype: object"
      ]
     },
     "execution_count": 25,
     "metadata": {},
     "output_type": "execute_result"
    }
   ],
   "source": [
    "#finding the mode of education\n",
    "bank_df.education.mode()"
   ]
  },
  {
   "cell_type": "code",
   "execution_count": 26,
   "id": "c285d0c0",
   "metadata": {},
   "outputs": [],
   "source": [
    "#Creating the function\n",
    "def rep_edu(x):\n",
    "    if x == 'unknown':\n",
    "        return 'secondary'\n",
    "    else:\n",
    "        return x"
   ]
  },
  {
   "cell_type": "code",
   "execution_count": 27,
   "id": "97c0084d",
   "metadata": {},
   "outputs": [],
   "source": [
    "bank_df.education = bank_df.education.apply(rep_edu)"
   ]
  },
  {
   "cell_type": "code",
   "execution_count": 28,
   "id": "31c9192b",
   "metadata": {},
   "outputs": [
    {
     "data": {
      "text/plain": [
       "secondary    25058\n",
       "tertiary     13301\n",
       "primary       6851\n",
       "single           1\n",
       "Name: education, dtype: int64"
      ]
     },
     "execution_count": 28,
     "metadata": {},
     "output_type": "execute_result"
    }
   ],
   "source": [
    "bank_df.education.value_counts()"
   ]
  },
  {
   "cell_type": "markdown",
   "id": "519ec899",
   "metadata": {},
   "source": [
    "# Converting the value in the last call duration column from second to minutes & rounding to 0"
   ]
  },
  {
   "cell_type": "code",
   "execution_count": 29,
   "id": "b4b2147f",
   "metadata": {},
   "outputs": [],
   "source": [
    "bank_df.Call_Duration = (bank_df.Call_Duration/60).round(0)"
   ]
  },
  {
   "cell_type": "code",
   "execution_count": 31,
   "id": "1f3d75f2",
   "metadata": {},
   "outputs": [
    {
     "data": {
      "text/html": [
       "<div>\n",
       "<style scoped>\n",
       "    .dataframe tbody tr th:only-of-type {\n",
       "        vertical-align: middle;\n",
       "    }\n",
       "\n",
       "    .dataframe tbody tr th {\n",
       "        vertical-align: top;\n",
       "    }\n",
       "\n",
       "    .dataframe thead th {\n",
       "        text-align: right;\n",
       "    }\n",
       "</style>\n",
       "<table border=\"1\" class=\"dataframe\">\n",
       "  <thead>\n",
       "    <tr style=\"text-align: right;\">\n",
       "      <th></th>\n",
       "      <th>age</th>\n",
       "      <th>Job_Type</th>\n",
       "      <th>marital</th>\n",
       "      <th>education</th>\n",
       "      <th>default</th>\n",
       "      <th>balance</th>\n",
       "      <th>Housing_Loan</th>\n",
       "      <th>Personal_Loan</th>\n",
       "      <th>contact</th>\n",
       "      <th>day</th>\n",
       "      <th>month</th>\n",
       "      <th>Call_Duration</th>\n",
       "      <th>Current_Followups</th>\n",
       "      <th>Contact_Day_Diff</th>\n",
       "      <th>Previous_Followups</th>\n",
       "      <th>Prev_Camp_Status</th>\n",
       "      <th>Current_Camp_Status</th>\n",
       "      <th>Age_Band</th>\n",
       "      <th>Balance_Band</th>\n",
       "    </tr>\n",
       "  </thead>\n",
       "  <tbody>\n",
       "    <tr>\n",
       "      <th>0</th>\n",
       "      <td>58</td>\n",
       "      <td>White Collar</td>\n",
       "      <td>married</td>\n",
       "      <td>tertiary</td>\n",
       "      <td>no</td>\n",
       "      <td>2143</td>\n",
       "      <td>yes</td>\n",
       "      <td>no</td>\n",
       "      <td>unknown</td>\n",
       "      <td>5</td>\n",
       "      <td>may</td>\n",
       "      <td>4.0</td>\n",
       "      <td>1</td>\n",
       "      <td>1</td>\n",
       "      <td>0</td>\n",
       "      <td>unknown</td>\n",
       "      <td>no</td>\n",
       "      <td>Veterans</td>\n",
       "      <td>High Balance</td>\n",
       "    </tr>\n",
       "    <tr>\n",
       "      <th>1</th>\n",
       "      <td>44</td>\n",
       "      <td>Blue Collar</td>\n",
       "      <td>single</td>\n",
       "      <td>secondary</td>\n",
       "      <td>no</td>\n",
       "      <td>29</td>\n",
       "      <td>yes</td>\n",
       "      <td>no</td>\n",
       "      <td>unknown</td>\n",
       "      <td>5</td>\n",
       "      <td>may</td>\n",
       "      <td>3.0</td>\n",
       "      <td>1</td>\n",
       "      <td>1</td>\n",
       "      <td>0</td>\n",
       "      <td>unknown</td>\n",
       "      <td>no</td>\n",
       "      <td>Mid Age Adults</td>\n",
       "      <td>Low Balance</td>\n",
       "    </tr>\n",
       "    <tr>\n",
       "      <th>2</th>\n",
       "      <td>33</td>\n",
       "      <td>entrepreneur</td>\n",
       "      <td>married</td>\n",
       "      <td>secondary</td>\n",
       "      <td>no</td>\n",
       "      <td>2</td>\n",
       "      <td>yes</td>\n",
       "      <td>yes</td>\n",
       "      <td>unknown</td>\n",
       "      <td>5</td>\n",
       "      <td>may</td>\n",
       "      <td>1.0</td>\n",
       "      <td>1</td>\n",
       "      <td>1</td>\n",
       "      <td>0</td>\n",
       "      <td>unknown</td>\n",
       "      <td>no</td>\n",
       "      <td>Mid Age Adults</td>\n",
       "      <td>Low Balance</td>\n",
       "    </tr>\n",
       "    <tr>\n",
       "      <th>3</th>\n",
       "      <td>47</td>\n",
       "      <td>Blue Collar</td>\n",
       "      <td>married</td>\n",
       "      <td>secondary</td>\n",
       "      <td>no</td>\n",
       "      <td>1506</td>\n",
       "      <td>yes</td>\n",
       "      <td>no</td>\n",
       "      <td>unknown</td>\n",
       "      <td>5</td>\n",
       "      <td>may</td>\n",
       "      <td>2.0</td>\n",
       "      <td>1</td>\n",
       "      <td>1</td>\n",
       "      <td>0</td>\n",
       "      <td>unknown</td>\n",
       "      <td>no</td>\n",
       "      <td>Veterans</td>\n",
       "      <td>High Balance</td>\n",
       "    </tr>\n",
       "    <tr>\n",
       "      <th>4</th>\n",
       "      <td>33</td>\n",
       "      <td>Blue Collar</td>\n",
       "      <td>single</td>\n",
       "      <td>single</td>\n",
       "      <td>no</td>\n",
       "      <td>1</td>\n",
       "      <td>no</td>\n",
       "      <td>no</td>\n",
       "      <td>unknown</td>\n",
       "      <td>5</td>\n",
       "      <td>may</td>\n",
       "      <td>3.0</td>\n",
       "      <td>1</td>\n",
       "      <td>1</td>\n",
       "      <td>0</td>\n",
       "      <td>unknown</td>\n",
       "      <td>no</td>\n",
       "      <td>Mid Age Adults</td>\n",
       "      <td>Low Balance</td>\n",
       "    </tr>\n",
       "  </tbody>\n",
       "</table>\n",
       "</div>"
      ],
      "text/plain": [
       "   age      Job_Type  marital  education default  balance Housing_Loan  \\\n",
       "0   58  White Collar  married   tertiary      no     2143          yes   \n",
       "1   44   Blue Collar   single  secondary      no       29          yes   \n",
       "2   33  entrepreneur  married  secondary      no        2          yes   \n",
       "3   47   Blue Collar  married  secondary      no     1506          yes   \n",
       "4   33   Blue Collar   single     single      no        1           no   \n",
       "\n",
       "  Personal_Loan  contact  day month  Call_Duration  Current_Followups  \\\n",
       "0            no  unknown    5   may            4.0                  1   \n",
       "1            no  unknown    5   may            3.0                  1   \n",
       "2           yes  unknown    5   may            1.0                  1   \n",
       "3            no  unknown    5   may            2.0                  1   \n",
       "4            no  unknown    5   may            3.0                  1   \n",
       "\n",
       "   Contact_Day_Diff  Previous_Followups Prev_Camp_Status Current_Camp_Status  \\\n",
       "0                 1                   0          unknown                  no   \n",
       "1                 1                   0          unknown                  no   \n",
       "2                 1                   0          unknown                  no   \n",
       "3                 1                   0          unknown                  no   \n",
       "4                 1                   0          unknown                  no   \n",
       "\n",
       "         Age_Band  Balance_Band  \n",
       "0        Veterans  High Balance  \n",
       "1  Mid Age Adults   Low Balance  \n",
       "2  Mid Age Adults   Low Balance  \n",
       "3        Veterans  High Balance  \n",
       "4  Mid Age Adults   Low Balance  "
      ]
     },
     "execution_count": 31,
     "metadata": {},
     "output_type": "execute_result"
    }
   ],
   "source": [
    "bank_df.head()"
   ]
  },
  {
   "cell_type": "markdown",
   "id": "c1bf0e4d",
   "metadata": {},
   "source": [
    "Grouping the value in the call duration"
   ]
  },
  {
   "cell_type": "code",
   "execution_count": 32,
   "id": "b8ceced0",
   "metadata": {},
   "outputs": [],
   "source": [
    "#creating a function \n",
    "\n",
    "def group_cd(d):\n",
    "    if d>=0 and d<=2:\n",
    "        return  'Short Call Time'\n",
    "    elif d>2 and d<=5:\n",
    "        return 'Medium Call Time'\n",
    "    else:\n",
    "        return 'High Call Time'"
   ]
  },
  {
   "cell_type": "code",
   "execution_count": 34,
   "id": "3dde063b",
   "metadata": {},
   "outputs": [],
   "source": [
    "#Applying the grouping value into call_dur column\n",
    "\n",
    "bank_df.Call_Duration = bank_df.Call_Duration.apply(group_cd)"
   ]
  },
  {
   "cell_type": "code",
   "execution_count": 35,
   "id": "33dc320b",
   "metadata": {},
   "outputs": [
    {
     "data": {
      "text/plain": [
       "Short Call Time     18610\n",
       "Medium Call Time    15862\n",
       "High Call Time      10739\n",
       "Name: Call_Duration, dtype: int64"
      ]
     },
     "execution_count": 35,
     "metadata": {},
     "output_type": "execute_result"
    }
   ],
   "source": [
    "bank_df.Call_Duration.value_counts()"
   ]
  },
  {
   "cell_type": "markdown",
   "id": "b6ed73c8",
   "metadata": {},
   "source": [
    "# Dropping the Contact column since it is not helping to analyze anything"
   ]
  },
  {
   "cell_type": "code",
   "execution_count": 36,
   "id": "64779e37",
   "metadata": {},
   "outputs": [],
   "source": [
    "bank_df.drop(['contact'],axis = 1, inplace= True)"
   ]
  },
  {
   "cell_type": "code",
   "execution_count": 37,
   "id": "7495906a",
   "metadata": {},
   "outputs": [
    {
     "data": {
      "text/html": [
       "<div>\n",
       "<style scoped>\n",
       "    .dataframe tbody tr th:only-of-type {\n",
       "        vertical-align: middle;\n",
       "    }\n",
       "\n",
       "    .dataframe tbody tr th {\n",
       "        vertical-align: top;\n",
       "    }\n",
       "\n",
       "    .dataframe thead th {\n",
       "        text-align: right;\n",
       "    }\n",
       "</style>\n",
       "<table border=\"1\" class=\"dataframe\">\n",
       "  <thead>\n",
       "    <tr style=\"text-align: right;\">\n",
       "      <th></th>\n",
       "      <th>age</th>\n",
       "      <th>Job_Type</th>\n",
       "      <th>marital</th>\n",
       "      <th>education</th>\n",
       "      <th>default</th>\n",
       "      <th>balance</th>\n",
       "      <th>Housing_Loan</th>\n",
       "      <th>Personal_Loan</th>\n",
       "      <th>day</th>\n",
       "      <th>month</th>\n",
       "      <th>Call_Duration</th>\n",
       "      <th>Current_Followups</th>\n",
       "      <th>Contact_Day_Diff</th>\n",
       "      <th>Previous_Followups</th>\n",
       "      <th>Prev_Camp_Status</th>\n",
       "      <th>Current_Camp_Status</th>\n",
       "      <th>Age_Band</th>\n",
       "      <th>Balance_Band</th>\n",
       "    </tr>\n",
       "  </thead>\n",
       "  <tbody>\n",
       "    <tr>\n",
       "      <th>0</th>\n",
       "      <td>58</td>\n",
       "      <td>White Collar</td>\n",
       "      <td>married</td>\n",
       "      <td>tertiary</td>\n",
       "      <td>no</td>\n",
       "      <td>2143</td>\n",
       "      <td>yes</td>\n",
       "      <td>no</td>\n",
       "      <td>5</td>\n",
       "      <td>may</td>\n",
       "      <td>Medium Call Time</td>\n",
       "      <td>1</td>\n",
       "      <td>1</td>\n",
       "      <td>0</td>\n",
       "      <td>unknown</td>\n",
       "      <td>no</td>\n",
       "      <td>Veterans</td>\n",
       "      <td>High Balance</td>\n",
       "    </tr>\n",
       "    <tr>\n",
       "      <th>1</th>\n",
       "      <td>44</td>\n",
       "      <td>Blue Collar</td>\n",
       "      <td>single</td>\n",
       "      <td>secondary</td>\n",
       "      <td>no</td>\n",
       "      <td>29</td>\n",
       "      <td>yes</td>\n",
       "      <td>no</td>\n",
       "      <td>5</td>\n",
       "      <td>may</td>\n",
       "      <td>Medium Call Time</td>\n",
       "      <td>1</td>\n",
       "      <td>1</td>\n",
       "      <td>0</td>\n",
       "      <td>unknown</td>\n",
       "      <td>no</td>\n",
       "      <td>Mid Age Adults</td>\n",
       "      <td>Low Balance</td>\n",
       "    </tr>\n",
       "    <tr>\n",
       "      <th>2</th>\n",
       "      <td>33</td>\n",
       "      <td>entrepreneur</td>\n",
       "      <td>married</td>\n",
       "      <td>secondary</td>\n",
       "      <td>no</td>\n",
       "      <td>2</td>\n",
       "      <td>yes</td>\n",
       "      <td>yes</td>\n",
       "      <td>5</td>\n",
       "      <td>may</td>\n",
       "      <td>Short Call Time</td>\n",
       "      <td>1</td>\n",
       "      <td>1</td>\n",
       "      <td>0</td>\n",
       "      <td>unknown</td>\n",
       "      <td>no</td>\n",
       "      <td>Mid Age Adults</td>\n",
       "      <td>Low Balance</td>\n",
       "    </tr>\n",
       "  </tbody>\n",
       "</table>\n",
       "</div>"
      ],
      "text/plain": [
       "   age      Job_Type  marital  education default  balance Housing_Loan  \\\n",
       "0   58  White Collar  married   tertiary      no     2143          yes   \n",
       "1   44   Blue Collar   single  secondary      no       29          yes   \n",
       "2   33  entrepreneur  married  secondary      no        2          yes   \n",
       "\n",
       "  Personal_Loan  day month     Call_Duration  Current_Followups  \\\n",
       "0            no    5   may  Medium Call Time                  1   \n",
       "1            no    5   may  Medium Call Time                  1   \n",
       "2           yes    5   may   Short Call Time                  1   \n",
       "\n",
       "   Contact_Day_Diff  Previous_Followups Prev_Camp_Status Current_Camp_Status  \\\n",
       "0                 1                   0          unknown                  no   \n",
       "1                 1                   0          unknown                  no   \n",
       "2                 1                   0          unknown                  no   \n",
       "\n",
       "         Age_Band  Balance_Band  \n",
       "0        Veterans  High Balance  \n",
       "1  Mid Age Adults   Low Balance  \n",
       "2  Mid Age Adults   Low Balance  "
      ]
     },
     "execution_count": 37,
     "metadata": {},
     "output_type": "execute_result"
    }
   ],
   "source": [
    "bank_df.head(3)"
   ]
  },
  {
   "cell_type": "code",
   "execution_count": 38,
   "id": "abe5fbfb",
   "metadata": {},
   "outputs": [],
   "source": [
    "# Grouping the current Followups\n",
    "def group_followups(x):\n",
    "    if x>0 and x<5:\n",
    "        return 'Upto 5 Followups'\n",
    "    else:\n",
    "        return 'more than 5 Followups'"
   ]
  },
  {
   "cell_type": "code",
   "execution_count": 39,
   "id": "0830194c",
   "metadata": {},
   "outputs": [],
   "source": [
    "#Applying grouping function\n",
    "bank_df.Current_Followups = bank_df.Current_Followups.apply(group_followups)"
   ]
  },
  {
   "cell_type": "code",
   "execution_count": 40,
   "id": "51347c87",
   "metadata": {},
   "outputs": [
    {
     "data": {
      "text/plain": [
       "Upto 5 Followups         39092\n",
       "more than 5 Followups     6119\n",
       "Name: Current_Followups, dtype: int64"
      ]
     },
     "execution_count": 40,
     "metadata": {},
     "output_type": "execute_result"
    }
   ],
   "source": [
    "bank_df.Current_Followups.value_counts()"
   ]
  },
  {
   "cell_type": "markdown",
   "id": "c3a234d5",
   "metadata": {},
   "source": [
    "# Grouping the Contact_Day_Diff"
   ]
  },
  {
   "cell_type": "code",
   "execution_count": 41,
   "id": "c9a1f542",
   "metadata": {},
   "outputs": [],
   "source": [
    "#Creating function for contact_day_diff column group\n",
    "\n",
    "def group_cdf(x):\n",
    "    if x == -1:\n",
    "        return 'Not Connected'\n",
    "    elif x>=0 and x<=90:\n",
    "        return '0-3 Month Back'\n",
    "    elif x>90 and x<=180:\n",
    "        return '3-6 Month Back'\n",
    "    else:\n",
    "        return 'More than 6 Month'"
   ]
  },
  {
   "cell_type": "code",
   "execution_count": 42,
   "id": "cb984379",
   "metadata": {},
   "outputs": [],
   "source": [
    "#Applying the function to the column\n",
    "\n",
    "bank_df.Contact_Day_Diff = bank_df.Contact_Day_Diff.apply(group_cdf)"
   ]
  },
  {
   "cell_type": "code",
   "execution_count": 43,
   "id": "422aded1",
   "metadata": {},
   "outputs": [
    {
     "data": {
      "text/plain": [
       "0-3 Month Back       37672\n",
       "More than 6 Month     5059\n",
       "3-6 Month Back        2480\n",
       "Name: Contact_Day_Diff, dtype: int64"
      ]
     },
     "execution_count": 43,
     "metadata": {},
     "output_type": "execute_result"
    }
   ],
   "source": [
    "bank_df.Contact_Day_Diff.value_counts()"
   ]
  },
  {
   "cell_type": "markdown",
   "id": "748f49a6",
   "metadata": {},
   "source": [
    "# Grouping the Previous followups Column"
   ]
  },
  {
   "cell_type": "code",
   "execution_count": 44,
   "id": "81d859de",
   "metadata": {},
   "outputs": [],
   "source": [
    "#Creating the previous_followups column\n",
    "\n",
    "def pre_foll(x):\n",
    "    if x>0 and x<=5:\n",
    "        return 'Upto 5 followups'\n",
    "    else:\n",
    "        return 'More than 5 followups'"
   ]
  },
  {
   "cell_type": "code",
   "execution_count": 46,
   "id": "c088c821",
   "metadata": {},
   "outputs": [],
   "source": [
    "#Applying the function in column\n",
    "\n",
    "bank_df.Previous_Followups = bank_df.Previous_Followups.apply(pre_foll)"
   ]
  },
  {
   "cell_type": "markdown",
   "id": "3b8bcff0",
   "metadata": {},
   "source": [
    "# Operating the pre_camp_status column"
   ]
  },
  {
   "cell_type": "code",
   "execution_count": 48,
   "id": "35956378",
   "metadata": {},
   "outputs": [
    {
     "data": {
      "text/plain": [
       "unknown    36959\n",
       "failure     4901\n",
       "other       1840\n",
       "success     1511\n",
       "Name: Prev_Camp_Status, dtype: int64"
      ]
     },
     "execution_count": 48,
     "metadata": {},
     "output_type": "execute_result"
    }
   ],
   "source": [
    "bank_df.Prev_Camp_Status.value_counts()"
   ]
  },
  {
   "cell_type": "markdown",
   "id": "3db15d8b",
   "metadata": {},
   "source": [
    "int the above result shows we have 36k unknown records, i will consider them as not contacted and 1.8k other does not defines anything thus i will consider it as a failure"
   ]
  },
  {
   "cell_type": "code",
   "execution_count": 49,
   "id": "6311f39d",
   "metadata": {},
   "outputs": [],
   "source": [
    "#Replacing the unwanted records: unknown = not connected , other = failure\n",
    "\n",
    "bank_df.Prev_Camp_Status = bank_df.Prev_Camp_Status.replace('unknown','not connected').replace('other','failure')"
   ]
  },
  {
   "cell_type": "code",
   "execution_count": 50,
   "id": "7584139b",
   "metadata": {},
   "outputs": [
    {
     "data": {
      "text/plain": [
       "not connected    36959\n",
       "failure           6741\n",
       "success           1511\n",
       "Name: Prev_Camp_Status, dtype: int64"
      ]
     },
     "execution_count": 50,
     "metadata": {},
     "output_type": "execute_result"
    }
   ],
   "source": [
    "bank_df.Prev_Camp_Status.value_counts()"
   ]
  },
  {
   "cell_type": "code",
   "execution_count": 52,
   "id": "a3e61074",
   "metadata": {},
   "outputs": [],
   "source": [
    "#Suppose replacing the categories once again to assign meaningful name\n",
    "\n",
    "bank_df.Prev_Camp_Status = bank_df.Prev_Camp_Status.replace('success','P Subscribed').replace('failure','P N Subscribed')"
   ]
  },
  {
   "cell_type": "code",
   "execution_count": 54,
   "id": "dc62807f",
   "metadata": {},
   "outputs": [
    {
     "data": {
      "text/plain": [
       "not connected     36959\n",
       "P N Subscribed     6741\n",
       "P Subscribed       1511\n",
       "Name: Prev_Camp_Status, dtype: int64"
      ]
     },
     "execution_count": 54,
     "metadata": {},
     "output_type": "execute_result"
    }
   ],
   "source": [
    "bank_df.Prev_Camp_Status.value_counts()"
   ]
  },
  {
   "cell_type": "markdown",
   "id": "8082d0b7",
   "metadata": {},
   "source": [
    "# Operating the current_camp_status"
   ]
  },
  {
   "cell_type": "markdown",
   "id": "1097f7a8",
   "metadata": {},
   "source": [
    "Replacing 'yes' = Subscribed and 'no' = Not Subscribed"
   ]
  },
  {
   "cell_type": "code",
   "execution_count": 55,
   "id": "65d62e3f",
   "metadata": {},
   "outputs": [],
   "source": [
    "bank_df.Current_Camp_Status = bank_df.Current_Camp_Status.replace('yes','Subscribed').replace('no','Not Subscribed')"
   ]
  },
  {
   "cell_type": "code",
   "execution_count": 56,
   "id": "83d48ef3",
   "metadata": {},
   "outputs": [
    {
     "data": {
      "text/plain": [
       "Not Subscribed    39922\n",
       "Subscribed         5289\n",
       "Name: Current_Camp_Status, dtype: int64"
      ]
     },
     "execution_count": 56,
     "metadata": {},
     "output_type": "execute_result"
    }
   ],
   "source": [
    "bank_df.Current_Camp_Status.value_counts()"
   ]
  },
  {
   "cell_type": "code",
   "execution_count": 57,
   "id": "1304b5b8",
   "metadata": {},
   "outputs": [
    {
     "data": {
      "text/html": [
       "<div>\n",
       "<style scoped>\n",
       "    .dataframe tbody tr th:only-of-type {\n",
       "        vertical-align: middle;\n",
       "    }\n",
       "\n",
       "    .dataframe tbody tr th {\n",
       "        vertical-align: top;\n",
       "    }\n",
       "\n",
       "    .dataframe thead th {\n",
       "        text-align: right;\n",
       "    }\n",
       "</style>\n",
       "<table border=\"1\" class=\"dataframe\">\n",
       "  <thead>\n",
       "    <tr style=\"text-align: right;\">\n",
       "      <th></th>\n",
       "      <th>age</th>\n",
       "      <th>Job_Type</th>\n",
       "      <th>marital</th>\n",
       "      <th>education</th>\n",
       "      <th>default</th>\n",
       "      <th>balance</th>\n",
       "      <th>Housing_Loan</th>\n",
       "      <th>Personal_Loan</th>\n",
       "      <th>day</th>\n",
       "      <th>month</th>\n",
       "      <th>Call_Duration</th>\n",
       "      <th>Current_Followups</th>\n",
       "      <th>Contact_Day_Diff</th>\n",
       "      <th>Previous_Followups</th>\n",
       "      <th>Prev_Camp_Status</th>\n",
       "      <th>Current_Camp_Status</th>\n",
       "      <th>Age_Band</th>\n",
       "      <th>Balance_Band</th>\n",
       "    </tr>\n",
       "  </thead>\n",
       "  <tbody>\n",
       "    <tr>\n",
       "      <th>0</th>\n",
       "      <td>58</td>\n",
       "      <td>White Collar</td>\n",
       "      <td>married</td>\n",
       "      <td>tertiary</td>\n",
       "      <td>no</td>\n",
       "      <td>2143</td>\n",
       "      <td>yes</td>\n",
       "      <td>no</td>\n",
       "      <td>5</td>\n",
       "      <td>may</td>\n",
       "      <td>Medium Call Time</td>\n",
       "      <td>Upto 5 Followups</td>\n",
       "      <td>0-3 Month Back</td>\n",
       "      <td>More than 5 followups</td>\n",
       "      <td>not connected</td>\n",
       "      <td>Not Subscribed</td>\n",
       "      <td>Veterans</td>\n",
       "      <td>High Balance</td>\n",
       "    </tr>\n",
       "    <tr>\n",
       "      <th>1</th>\n",
       "      <td>44</td>\n",
       "      <td>Blue Collar</td>\n",
       "      <td>single</td>\n",
       "      <td>secondary</td>\n",
       "      <td>no</td>\n",
       "      <td>29</td>\n",
       "      <td>yes</td>\n",
       "      <td>no</td>\n",
       "      <td>5</td>\n",
       "      <td>may</td>\n",
       "      <td>Medium Call Time</td>\n",
       "      <td>Upto 5 Followups</td>\n",
       "      <td>0-3 Month Back</td>\n",
       "      <td>More than 5 followups</td>\n",
       "      <td>not connected</td>\n",
       "      <td>Not Subscribed</td>\n",
       "      <td>Mid Age Adults</td>\n",
       "      <td>Low Balance</td>\n",
       "    </tr>\n",
       "    <tr>\n",
       "      <th>2</th>\n",
       "      <td>33</td>\n",
       "      <td>entrepreneur</td>\n",
       "      <td>married</td>\n",
       "      <td>secondary</td>\n",
       "      <td>no</td>\n",
       "      <td>2</td>\n",
       "      <td>yes</td>\n",
       "      <td>yes</td>\n",
       "      <td>5</td>\n",
       "      <td>may</td>\n",
       "      <td>Short Call Time</td>\n",
       "      <td>Upto 5 Followups</td>\n",
       "      <td>0-3 Month Back</td>\n",
       "      <td>More than 5 followups</td>\n",
       "      <td>not connected</td>\n",
       "      <td>Not Subscribed</td>\n",
       "      <td>Mid Age Adults</td>\n",
       "      <td>Low Balance</td>\n",
       "    </tr>\n",
       "    <tr>\n",
       "      <th>3</th>\n",
       "      <td>47</td>\n",
       "      <td>Blue Collar</td>\n",
       "      <td>married</td>\n",
       "      <td>secondary</td>\n",
       "      <td>no</td>\n",
       "      <td>1506</td>\n",
       "      <td>yes</td>\n",
       "      <td>no</td>\n",
       "      <td>5</td>\n",
       "      <td>may</td>\n",
       "      <td>Short Call Time</td>\n",
       "      <td>Upto 5 Followups</td>\n",
       "      <td>0-3 Month Back</td>\n",
       "      <td>More than 5 followups</td>\n",
       "      <td>not connected</td>\n",
       "      <td>Not Subscribed</td>\n",
       "      <td>Veterans</td>\n",
       "      <td>High Balance</td>\n",
       "    </tr>\n",
       "    <tr>\n",
       "      <th>4</th>\n",
       "      <td>33</td>\n",
       "      <td>Blue Collar</td>\n",
       "      <td>single</td>\n",
       "      <td>single</td>\n",
       "      <td>no</td>\n",
       "      <td>1</td>\n",
       "      <td>no</td>\n",
       "      <td>no</td>\n",
       "      <td>5</td>\n",
       "      <td>may</td>\n",
       "      <td>Medium Call Time</td>\n",
       "      <td>Upto 5 Followups</td>\n",
       "      <td>0-3 Month Back</td>\n",
       "      <td>More than 5 followups</td>\n",
       "      <td>not connected</td>\n",
       "      <td>Not Subscribed</td>\n",
       "      <td>Mid Age Adults</td>\n",
       "      <td>Low Balance</td>\n",
       "    </tr>\n",
       "  </tbody>\n",
       "</table>\n",
       "</div>"
      ],
      "text/plain": [
       "   age      Job_Type  marital  education default  balance Housing_Loan  \\\n",
       "0   58  White Collar  married   tertiary      no     2143          yes   \n",
       "1   44   Blue Collar   single  secondary      no       29          yes   \n",
       "2   33  entrepreneur  married  secondary      no        2          yes   \n",
       "3   47   Blue Collar  married  secondary      no     1506          yes   \n",
       "4   33   Blue Collar   single     single      no        1           no   \n",
       "\n",
       "  Personal_Loan  day month     Call_Duration Current_Followups  \\\n",
       "0            no    5   may  Medium Call Time  Upto 5 Followups   \n",
       "1            no    5   may  Medium Call Time  Upto 5 Followups   \n",
       "2           yes    5   may   Short Call Time  Upto 5 Followups   \n",
       "3            no    5   may   Short Call Time  Upto 5 Followups   \n",
       "4            no    5   may  Medium Call Time  Upto 5 Followups   \n",
       "\n",
       "  Contact_Day_Diff     Previous_Followups Prev_Camp_Status  \\\n",
       "0   0-3 Month Back  More than 5 followups    not connected   \n",
       "1   0-3 Month Back  More than 5 followups    not connected   \n",
       "2   0-3 Month Back  More than 5 followups    not connected   \n",
       "3   0-3 Month Back  More than 5 followups    not connected   \n",
       "4   0-3 Month Back  More than 5 followups    not connected   \n",
       "\n",
       "  Current_Camp_Status        Age_Band  Balance_Band  \n",
       "0      Not Subscribed        Veterans  High Balance  \n",
       "1      Not Subscribed  Mid Age Adults   Low Balance  \n",
       "2      Not Subscribed  Mid Age Adults   Low Balance  \n",
       "3      Not Subscribed        Veterans  High Balance  \n",
       "4      Not Subscribed  Mid Age Adults   Low Balance  "
      ]
     },
     "execution_count": 57,
     "metadata": {},
     "output_type": "execute_result"
    }
   ],
   "source": [
    "bank_df.head()"
   ]
  },
  {
   "cell_type": "markdown",
   "id": "3b822e03",
   "metadata": {},
   "source": [
    "# Save the file"
   ]
  },
  {
   "cell_type": "markdown",
   "id": "9a63cf4d",
   "metadata": {},
   "source": [
    "Now i am going to save the file. so that, i can perform data visualization after hooking upto Power BI"
   ]
  },
  {
   "cell_type": "code",
   "execution_count": 59,
   "id": "f3a687d1",
   "metadata": {},
   "outputs": [],
   "source": [
    "bank_df.to_csv('Banking_Marketing_Data_File.csv')"
   ]
  },
  {
   "cell_type": "code",
   "execution_count": null,
   "id": "a18b5bf4",
   "metadata": {},
   "outputs": [],
   "source": []
  }
 ],
 "metadata": {
  "kernelspec": {
   "display_name": "Python 3 (ipykernel)",
   "language": "python",
   "name": "python3"
  },
  "language_info": {
   "codemirror_mode": {
    "name": "ipython",
    "version": 3
   },
   "file_extension": ".py",
   "mimetype": "text/x-python",
   "name": "python",
   "nbconvert_exporter": "python",
   "pygments_lexer": "ipython3",
   "version": "3.9.12"
  }
 },
 "nbformat": 4,
 "nbformat_minor": 5
}
